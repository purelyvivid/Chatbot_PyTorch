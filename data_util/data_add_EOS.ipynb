{
 "cells": [
  {
   "cell_type": "code",
   "execution_count": 24,
   "metadata": {
    "collapsed": true
   },
   "outputs": [],
   "source": [
    "import numpy as np\n",
    "import pickle"
   ]
  },
  {
   "cell_type": "code",
   "execution_count": 25,
   "metadata": {
    "collapsed": false
   },
   "outputs": [],
   "source": [
    "def load_data(PATH='datasets/'):\n",
    "    # read data control dictionaries\n",
    "    with open(PATH + 'metadata.pkl', 'rb') as f:\n",
    "        metadata = pickle.load(f)\n",
    "    # read numpy arrays\n",
    "    f_idx_q = np.load(PATH + 'f_idx_q.npy')\n",
    "    f_idx_a = np.load(PATH + 'f_idx_a.npy')\n",
    "    m_idx_q = np.load(PATH + 'm_idx_q.npy')\n",
    "    m_idx_a = np.load(PATH + 'm_idx_a.npy')\n",
    "    return metadata, f_idx_q, f_idx_a, m_idx_q, m_idx_a\n",
    "\n",
    "metadata, f_idx_q, f_idx_a, m_idx_q, m_idx_a = load_data(PATH='datasets/')"
   ]
  },
  {
   "cell_type": "code",
   "execution_count": 26,
   "metadata": {
    "collapsed": true
   },
   "outputs": [],
   "source": [
    "def add_EOS_metadata(meta, save_path='datasets/'):\n",
    "    \n",
    "    # metadata\n",
    "    idx2w = meta['idx2w']\n",
    "    w2idx = meta['w2idx']\n",
    "    eos_idx = len(w2idx)  # eos_idx=8002\n",
    "    idx2w.append('<EOS>')\n",
    "    w2idx.update({'<EOS>': eos_idx})\n",
    "    metadata = {\n",
    "            'w2idx' : w2idx,\n",
    "            'idx2w' : idx2w,\n",
    "                }\n",
    "    with open(save_path+'metadata_1.pkl', 'wb') as f:\n",
    "        pickle.dump(metadata, f)\n",
    "        \n",
    "    return eos_idx\n",
    "        \n",
    "        "
   ]
  },
  {
   "cell_type": "code",
   "execution_count": 27,
   "metadata": {
    "collapsed": true
   },
   "outputs": [],
   "source": [
    "def add_EOS_line(idxs, eos_idx=8002):\n",
    "    new_idxs = np.copy(idxs)\n",
    "    for i,line in enumerate(idxs):\n",
    "        zreo_pos_arr = np.where(line==0)[0]\n",
    "        if len(zreo_pos_arr)>0:\n",
    "            new_idxs[i,25-len(zreo_pos_arr)]=eos_idx\n",
    "    return new_idxs"
   ]
  },
  {
   "cell_type": "code",
   "execution_count": 28,
   "metadata": {
    "collapsed": false
   },
   "outputs": [],
   "source": [
    "def idxs_add_EOS(f_idx_q, f_idx_a, m_idx_q, m_idx_a, eos_idx=8002, save_path='datasets/'):\n",
    "    \n",
    "    f_idx_q_1 = add_EOS_line(f_idx_q, eos_idx=eos_idx)\n",
    "    f_idx_a_1 = add_EOS_line(f_idx_a, eos_idx=eos_idx)\n",
    "    m_idx_q_1 = add_EOS_line(m_idx_q, eos_idx=eos_idx)\n",
    "    m_idx_a_1 = add_EOS_line(m_idx_a, eos_idx=eos_idx)\n",
    "    np.save(save_path+'f_idx_q_1.npy', f_idx_q_1)\n",
    "    np.save(save_path+'f_idx_a_1.npy', f_idx_a_1)\n",
    "    np.save(save_path+'m_idx_q_1.npy', m_idx_q_1)\n",
    "    np.save(save_path+'m_idx_a_1.npy', m_idx_a_1)\n",
    "    \n",
    "idxs_add_EOS(f_idx_q, f_idx_a, m_idx_q, m_idx_a)        "
   ]
  },
  {
   "cell_type": "code",
   "execution_count": 29,
   "metadata": {
    "collapsed": false
   },
   "outputs": [
    {
     "name": "stdout",
     "output_type": "stream",
     "text": [
      "[  41    3  133  667  327   34    1   46   44  108   34    2 8002    0    0\n",
      "    0    0    0    0    0    0    0    0    0    0]\n",
      "[ 41   3 133 667 327  34   1  46  44 108  34   2   0   0   0   0   0   0\n",
      "   0   0   0   0   0   0   0]\n",
      "[   3   14   18   20    4  675  284    3  180    3   33  133    2   18  667\n",
      " 2792    6  212 1765   31 1392   35   27  309    5]\n",
      "[   3   14   18   20    4  675  284    3  180    3   33  133    2   18  667\n",
      " 2792    6  212 1765   31 1392   35   27  309    5]\n"
     ]
    }
   ],
   "source": [
    "def add_EOS(path='datasets/'):\n",
    "    metadata, f_idx_q, f_idx_a, m_idx_q, m_idx_a  = load_data()\n",
    "    eos_idx = add_EOS_metadata(metadata)\n",
    "    idxs_add_EOS(f_idx_q, f_idx_a, m_idx_q, m_idx_a, eos_idx=eos_idx)\n",
    "    \n",
    "    \n",
    "    f_idx_q_1 = np.load('datasets/f_idx_q_1.npy')\n",
    "    print(f_idx_q_1 [0])\n",
    "    print(f_idx_q [0])\n",
    "    print(f_idx_q_1 [350])\n",
    "    print(f_idx_q [350])\n",
    "    \n",
    "add_EOS()"
   ]
  },
  {
   "cell_type": "code",
   "execution_count": null,
   "metadata": {
    "collapsed": true
   },
   "outputs": [],
   "source": []
  }
 ],
 "metadata": {
  "anaconda-cloud": {},
  "kernelspec": {
   "display_name": "Python [conda root]",
   "language": "python",
   "name": "conda-root-py"
  },
  "language_info": {
   "codemirror_mode": {
    "name": "ipython",
    "version": 3
   },
   "file_extension": ".py",
   "mimetype": "text/x-python",
   "name": "python",
   "nbconvert_exporter": "python",
   "pygments_lexer": "ipython3",
   "version": "3.5.2"
  }
 },
 "nbformat": 4,
 "nbformat_minor": 1
}
